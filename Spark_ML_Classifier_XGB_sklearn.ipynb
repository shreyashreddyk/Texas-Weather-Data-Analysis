{
 "cells": [
  {
   "cell_type": "code",
   "execution_count": 1,
   "id": "6a958930",
   "metadata": {},
   "outputs": [],
   "source": [
    "state=\"TX\""
   ]
  },
  {
   "cell_type": "code",
   "execution_count": 2,
   "id": "9d3f1f7d",
   "metadata": {},
   "outputs": [],
   "source": [
    "import pandas as pd\n",
    "import numpy as np\n",
    "import sklearn as sk\n",
    "import matplotlib\n",
    "\n",
    "import warnings  # Suppress Warnings\n",
    "warnings.filterwarnings('ignore')\n",
    "\n",
    "_figsize=(10,7)"
   ]
  },
  {
   "cell_type": "code",
   "execution_count": 3,
   "id": "e7587f57",
   "metadata": {},
   "outputs": [
    {
     "name": "stdout",
     "output_type": "stream",
     "text": [
      "sc_type= S\n",
      "10.41.226.243\n",
      "namespace= skondakindi\n",
      "driver_host= 10.41.226.243\n"
     ]
    },
    {
     "name": "stderr",
     "output_type": "stream",
     "text": [
      "Setting default log level to \"WARN\".\n",
      "To adjust logging level use sc.setLogLevel(newLevel). For SparkR, use setLogLevel(newLevel).\n"
     ]
    },
    {
     "name": "stdout",
     "output_type": "stream",
     "text": [
      "25/06/04 15:37:25 WARN NativeCodeLoader: Unable to load native-hadoop library for your platform... using builtin-java classes where applicable\n",
      "sparkContext= <SparkContext master=spark://spark-master-0.spark-headless.skondakindi.svc.cluster.local:7077 appName=myapp>\n",
      "\n",
      "version of ipwidgets= 8.1.7\n",
      "parquet_root= /home/skondakindi/public/Data/weather\n"
     ]
    },
    {
     "name": "stderr",
     "output_type": "stream",
     "text": [
      "                                                                                \r"
     ]
    },
    {
     "name": "stdout",
     "output_type": "stream",
     "text": [
      "measurements is a Dataframe (and table) with 12720632 records\n",
      "stations is a Dataframe (and table) with 119503 records\n"
     ]
    },
    {
     "name": "stderr",
     "output_type": "stream",
     "text": [
      "[Stage 9:=====================================================>   (32 + 2) / 34]\r"
     ]
    },
    {
     "name": "stdout",
     "output_type": "stream",
     "text": [
      "weather is a Dataframe (and table) which is a join of measurements and stations with 12720632 records\n",
      "CPU times: user 587 ms, sys: 105 ms, total: 691 ms\n",
      "Wall time: 57.1 s\n"
     ]
    },
    {
     "name": "stderr",
     "output_type": "stream",
     "text": [
      "\r",
      "                                                                                \r"
     ]
    }
   ],
   "source": [
    "%%time\n",
    "%run lib/startup.py S"
   ]
  },
  {
   "cell_type": "code",
   "execution_count": 4,
   "id": "0432ccfb",
   "metadata": {},
   "outputs": [],
   "source": [
    "ms=['SNWD', 'PRCP', 'TOBS']\n",
    "cms='or\\n'.join(['Measurement=\"%s\" '%(m) for m in ms])\n",
    "\n",
    "##  read all data for state\n",
    "Query=\"\"\"\n",
    "SELECT *\n",
    "FROM weather\n",
    "WHERE state=\"%s\" and \n",
    "(%s)\n",
    "\"\"\"%(state,cms)"
   ]
  },
  {
   "cell_type": "code",
   "execution_count": 5,
   "id": "c556b9b1",
   "metadata": {},
   "outputs": [
    {
     "name": "stderr",
     "output_type": "stream",
     "text": [
      "                                                                                \r"
     ]
    },
    {
     "name": "stdout",
     "output_type": "stream",
     "text": [
      "number of rows in result= 171400\n"
     ]
    },
    {
     "name": "stderr",
     "output_type": "stream",
     "text": [
      "\r",
      "[Stage 17:>                                                         (0 + 0) / 1]\r",
      "\r",
      "[Stage 17:>                                                         (0 + 1) / 1]\r"
     ]
    },
    {
     "name": "stdout",
     "output_type": "stream",
     "text": [
      "+-----------+-----------+----+--------------------+--------+---------+---------+----------+-------------------+-----+-------------+\n",
      "|    Station|Measurement|Year|              Values|latitude|longitude|elevation|dist2coast|               name|state|      country|\n",
      "+-----------+-----------+----+--------------------+--------+---------+---------+----------+-------------------+-----+-------------+\n",
      "|US1TXAS0015|       PRCP|2022|[00 00 00 00 00 0...| 30.0341| -96.2209|     79.2|     122.5|  BELLVILLE 6.5 NNE|   TX|United States|\n",
      "|US1TXBEL009|       PRCP|2022|[00 00 00 00 00 0...| 31.1231| -97.5284|    230.4|    280.75|      BELTON 5.4 NW|   TX|United States|\n",
      "|US1TXBEL039|       PRCP|2022|[00 00 00 00 00 0...| 31.1861| -97.3422|    242.0|     278.0|     TEMPLE 6.2 NNE|   TX|United States|\n",
      "|US1TXBEL055|       PRCP|2022|[00 00 00 00 00 0...| 31.1778| -97.3294|    235.0|     278.0|     TEMPLE 5.9 NNE|   TX|United States|\n",
      "|US1TXBLC034|       PRCP|2022|[00 00 00 00 00 0...| 30.3582|  -98.319|    420.0|   239.375|JOHNSON CITY 7.8 NE|   TX|United States|\n",
      "+-----------+-----------+----+--------------------+--------+---------+---------+----------+-------------------+-----+-------------+\n",
      "only showing top 5 rows\n",
      "\n"
     ]
    },
    {
     "name": "stderr",
     "output_type": "stream",
     "text": [
      "\r",
      "                                                                                \r"
     ]
    }
   ],
   "source": [
    "weather_df=sqlContext.sql(Query)\n",
    "print('number of rows in result=',weather_df.count())\n",
    "weather_df.show(5)"
   ]
  },
  {
   "cell_type": "code",
   "execution_count": 6,
   "id": "1e5a6f43",
   "metadata": {},
   "outputs": [
    {
     "data": {
      "text/html": [
       "<div>\n",
       "<style scoped>\n",
       "    .dataframe tbody tr th:only-of-type {\n",
       "        vertical-align: middle;\n",
       "    }\n",
       "\n",
       "    .dataframe tbody tr th {\n",
       "        vertical-align: top;\n",
       "    }\n",
       "\n",
       "    .dataframe thead th {\n",
       "        text-align: right;\n",
       "    }\n",
       "</style>\n",
       "<table border=\"1\" class=\"dataframe\">\n",
       "  <thead>\n",
       "    <tr style=\"text-align: right;\">\n",
       "      <th></th>\n",
       "      <th>Unnamed: 0</th>\n",
       "      <th>ID</th>\n",
       "      <th>Latitude</th>\n",
       "      <th>Longitude</th>\n",
       "      <th>Elevation</th>\n",
       "      <th>State</th>\n",
       "      <th>Name</th>\n",
       "      <th>GSN_Flag</th>\n",
       "      <th>HCN_CRN_Flag</th>\n",
       "      <th>WMO_ID</th>\n",
       "      <th>Koppen</th>\n",
       "    </tr>\n",
       "  </thead>\n",
       "  <tbody>\n",
       "    <tr>\n",
       "      <th>0</th>\n",
       "      <td>83933</td>\n",
       "      <td>US1TXAC0002</td>\n",
       "      <td>33.8281</td>\n",
       "      <td>-98.5492</td>\n",
       "      <td>305.7</td>\n",
       "      <td>TX</td>\n",
       "      <td>WICHITA FALLS 5.2 SSW</td>\n",
       "      <td>NaN</td>\n",
       "      <td>NaN</td>\n",
       "      <td>NaN</td>\n",
       "      <td>Cfa</td>\n",
       "    </tr>\n",
       "    <tr>\n",
       "      <th>1</th>\n",
       "      <td>83934</td>\n",
       "      <td>US1TXAC0003</td>\n",
       "      <td>33.5838</td>\n",
       "      <td>-98.6298</td>\n",
       "      <td>323.7</td>\n",
       "      <td>TX</td>\n",
       "      <td>ARCHER CITY 0.7 SSW</td>\n",
       "      <td>NaN</td>\n",
       "      <td>NaN</td>\n",
       "      <td>NaN</td>\n",
       "      <td>Cfa</td>\n",
       "    </tr>\n",
       "    <tr>\n",
       "      <th>2</th>\n",
       "      <td>83935</td>\n",
       "      <td>US1TXAC0005</td>\n",
       "      <td>33.7762</td>\n",
       "      <td>-98.5350</td>\n",
       "      <td>300.2</td>\n",
       "      <td>TX</td>\n",
       "      <td>WICHITA FALLS 8.5 S</td>\n",
       "      <td>NaN</td>\n",
       "      <td>NaN</td>\n",
       "      <td>NaN</td>\n",
       "      <td>Cfa</td>\n",
       "    </tr>\n",
       "    <tr>\n",
       "      <th>3</th>\n",
       "      <td>83936</td>\n",
       "      <td>US1TXAC0009</td>\n",
       "      <td>33.8328</td>\n",
       "      <td>-98.5360</td>\n",
       "      <td>300.5</td>\n",
       "      <td>TX</td>\n",
       "      <td>WICHITA FALLS 4.6 SSW</td>\n",
       "      <td>NaN</td>\n",
       "      <td>NaN</td>\n",
       "      <td>NaN</td>\n",
       "      <td>Cfa</td>\n",
       "    </tr>\n",
       "    <tr>\n",
       "      <th>4</th>\n",
       "      <td>83937</td>\n",
       "      <td>US1TXAD0002</td>\n",
       "      <td>32.0533</td>\n",
       "      <td>-102.8796</td>\n",
       "      <td>973.5</td>\n",
       "      <td>TX</td>\n",
       "      <td>ANDREWS 26.7 SW</td>\n",
       "      <td>NaN</td>\n",
       "      <td>NaN</td>\n",
       "      <td>NaN</td>\n",
       "      <td>BSk</td>\n",
       "    </tr>\n",
       "    <tr>\n",
       "      <th>...</th>\n",
       "      <td>...</td>\n",
       "      <td>...</td>\n",
       "      <td>...</td>\n",
       "      <td>...</td>\n",
       "      <td>...</td>\n",
       "      <td>...</td>\n",
       "      <td>...</td>\n",
       "      <td>...</td>\n",
       "      <td>...</td>\n",
       "      <td>...</td>\n",
       "      <td>...</td>\n",
       "    </tr>\n",
       "    <tr>\n",
       "      <th>5386</th>\n",
       "      <td>117501</td>\n",
       "      <td>USW00093904</td>\n",
       "      <td>32.8167</td>\n",
       "      <td>-97.3500</td>\n",
       "      <td>214.9</td>\n",
       "      <td>TX</td>\n",
       "      <td>FT WORTH MEACHAM FLD NAAF</td>\n",
       "      <td>NaN</td>\n",
       "      <td>NaN</td>\n",
       "      <td>74739.0</td>\n",
       "      <td>Cfa</td>\n",
       "    </tr>\n",
       "    <tr>\n",
       "      <th>5387</th>\n",
       "      <td>117508</td>\n",
       "      <td>USW00093914</td>\n",
       "      <td>31.7831</td>\n",
       "      <td>-95.6039</td>\n",
       "      <td>141.7</td>\n",
       "      <td>TX</td>\n",
       "      <td>PALESTINE 2 NE</td>\n",
       "      <td>NaN</td>\n",
       "      <td>NaN</td>\n",
       "      <td>NaN</td>\n",
       "      <td>Cfa</td>\n",
       "    </tr>\n",
       "    <tr>\n",
       "      <th>5388</th>\n",
       "      <td>117513</td>\n",
       "      <td>USW00093928</td>\n",
       "      <td>32.7667</td>\n",
       "      <td>-96.7833</td>\n",
       "      <td>195.1</td>\n",
       "      <td>TX</td>\n",
       "      <td>DALLAS WBO</td>\n",
       "      <td>NaN</td>\n",
       "      <td>NaN</td>\n",
       "      <td>NaN</td>\n",
       "      <td>Cfa</td>\n",
       "    </tr>\n",
       "    <tr>\n",
       "      <th>5389</th>\n",
       "      <td>117521</td>\n",
       "      <td>USW00093985</td>\n",
       "      <td>32.7817</td>\n",
       "      <td>-98.0603</td>\n",
       "      <td>283.5</td>\n",
       "      <td>TX</td>\n",
       "      <td>MINERAL WELLS AP</td>\n",
       "      <td>NaN</td>\n",
       "      <td>NaN</td>\n",
       "      <td>NaN</td>\n",
       "      <td>Cfa</td>\n",
       "    </tr>\n",
       "    <tr>\n",
       "      <th>5390</th>\n",
       "      <td>117523</td>\n",
       "      <td>USW00093987</td>\n",
       "      <td>31.2361</td>\n",
       "      <td>-94.7544</td>\n",
       "      <td>87.8</td>\n",
       "      <td>TX</td>\n",
       "      <td>LUFKIN ANGELINA CO AP</td>\n",
       "      <td>NaN</td>\n",
       "      <td>NaN</td>\n",
       "      <td>NaN</td>\n",
       "      <td>Cfa</td>\n",
       "    </tr>\n",
       "  </tbody>\n",
       "</table>\n",
       "<p>5391 rows × 11 columns</p>\n",
       "</div>"
      ],
      "text/plain": [
       "      Unnamed: 0           ID  Latitude  Longitude  Elevation State  \\\n",
       "0          83933  US1TXAC0002   33.8281   -98.5492      305.7    TX   \n",
       "1          83934  US1TXAC0003   33.5838   -98.6298      323.7    TX   \n",
       "2          83935  US1TXAC0005   33.7762   -98.5350      300.2    TX   \n",
       "3          83936  US1TXAC0009   33.8328   -98.5360      300.5    TX   \n",
       "4          83937  US1TXAD0002   32.0533  -102.8796      973.5    TX   \n",
       "...          ...          ...       ...        ...        ...   ...   \n",
       "5386      117501  USW00093904   32.8167   -97.3500      214.9    TX   \n",
       "5387      117508  USW00093914   31.7831   -95.6039      141.7    TX   \n",
       "5388      117513  USW00093928   32.7667   -96.7833      195.1    TX   \n",
       "5389      117521  USW00093985   32.7817   -98.0603      283.5    TX   \n",
       "5390      117523  USW00093987   31.2361   -94.7544       87.8    TX   \n",
       "\n",
       "                           Name GSN_Flag HCN_CRN_Flag   WMO_ID Koppen  \n",
       "0         WICHITA FALLS 5.2 SSW      NaN          NaN      NaN    Cfa  \n",
       "1           ARCHER CITY 0.7 SSW      NaN          NaN      NaN    Cfa  \n",
       "2           WICHITA FALLS 8.5 S      NaN          NaN      NaN    Cfa  \n",
       "3         WICHITA FALLS 4.6 SSW      NaN          NaN      NaN    Cfa  \n",
       "4               ANDREWS 26.7 SW      NaN          NaN      NaN    BSk  \n",
       "...                         ...      ...          ...      ...    ...  \n",
       "5386  FT WORTH MEACHAM FLD NAAF      NaN          NaN  74739.0    Cfa  \n",
       "5387             PALESTINE 2 NE      NaN          NaN      NaN    Cfa  \n",
       "5388                 DALLAS WBO      NaN          NaN      NaN    Cfa  \n",
       "5389           MINERAL WELLS AP      NaN          NaN      NaN    Cfa  \n",
       "5390      LUFKIN ANGELINA CO AP      NaN          NaN      NaN    Cfa  \n",
       "\n",
       "[5391 rows x 11 columns]"
      ]
     },
     "execution_count": 6,
     "metadata": {},
     "output_type": "execute_result"
    }
   ],
   "source": [
    "koppen_df = pd.read_csv(\"../../public/Data/Boosting_HW/Texas_Koppen.csv\")\n",
    "koppen_df"
   ]
  },
  {
   "cell_type": "code",
   "execution_count": 7,
   "id": "20039eac",
   "metadata": {},
   "outputs": [
    {
     "name": "stderr",
     "output_type": "stream",
     "text": [
      "\r",
      "[Stage 18:>                                                         (0 + 1) / 1]\r"
     ]
    },
    {
     "name": "stdout",
     "output_type": "stream",
     "text": [
      "+----------+-----------+--------+---------+---------+-----+--------------------+--------+------------+------+------+\n",
      "|Unnamed: 0|         ID|Latitude|Longitude|Elevation|State|                Name|GSN_Flag|HCN_CRN_Flag|WMO_ID|Koppen|\n",
      "+----------+-----------+--------+---------+---------+-----+--------------------+--------+------------+------+------+\n",
      "|     83933|US1TXAC0002| 33.8281| -98.5492|    305.7|   TX|WICHITA FALLS 5.2...|    null|        null|  null|   Cfa|\n",
      "|     83934|US1TXAC0003| 33.5838| -98.6298|    323.7|   TX| ARCHER CITY 0.7 SSW|    null|        null|  null|   Cfa|\n",
      "|     83935|US1TXAC0005| 33.7762|  -98.535|    300.2|   TX| WICHITA FALLS 8.5 S|    null|        null|  null|   Cfa|\n",
      "|     83936|US1TXAC0009| 33.8328|  -98.536|    300.5|   TX|WICHITA FALLS 4.6...|    null|        null|  null|   Cfa|\n",
      "|     83937|US1TXAD0002| 32.0533|-102.8796|    973.5|   TX|     ANDREWS 26.7 SW|    null|        null|  null|   BSk|\n",
      "+----------+-----------+--------+---------+---------+-----+--------------------+--------+------------+------+------+\n",
      "only showing top 5 rows\n",
      "\n"
     ]
    },
    {
     "name": "stderr",
     "output_type": "stream",
     "text": [
      "\r",
      "                                                                                \r"
     ]
    }
   ],
   "source": [
    "spark = (\n",
    "    SparkSession.builder\n",
    "        .appName(\"pandas-to-spark\")\n",
    "        .getOrCreate()\n",
    ")\n",
    "\n",
    "spark.conf.set(\"spark.sql.execution.arrow.pyspark.enabled\", \"true\")\n",
    "\n",
    "if not hasattr(pd.DataFrame, \"iteritems\"):\n",
    "    # monkey-patch brings the alias back\n",
    "    pd.DataFrame.iteritems = pd.DataFrame.items\n",
    "\n",
    "koppen_sdf = spark.createDataFrame(koppen_df)\n",
    "\n",
    "koppen_sdf.show(5)"
   ]
  },
  {
   "cell_type": "code",
   "execution_count": 8,
   "id": "6168a963",
   "metadata": {},
   "outputs": [],
   "source": [
    "from pyspark.sql.functions import col\n",
    "\n",
    "weather_df = weather_df.withColumn(\"Station\", col(\"Station\").cast(\"string\"))\n",
    "koppen_sdf = koppen_sdf.withColumn(\"ID\", col(\"ID\").cast(\"string\"))\n",
    "\n",
    "weather_df = weather_df.withColumnRenamed(\"Station\", \"station_id\")\n",
    "koppen_sdf = koppen_sdf.withColumnRenamed(\"ID\", \"station_id\")"
   ]
  },
  {
   "cell_type": "code",
   "execution_count": 9,
   "id": "b460e24a",
   "metadata": {},
   "outputs": [],
   "source": [
    "valid_station_ids = koppen_df['ID'].unique().tolist()\n",
    "\n",
    "tobs_df = weather_df.filter((weather_df.Measurement==\"TOBS\") & (weather_df.station_id.isin(valid_station_ids)))\n",
    "snwd_df = weather_df.filter((weather_df.Measurement==\"SNWD\") & (weather_df.station_id.isin(valid_station_ids)))\n",
    "prcp_df = weather_df.filter((weather_df.Measurement==\"PRCP\") & (weather_df.station_id.isin(valid_station_ids)))"
   ]
  },
  {
   "cell_type": "code",
   "execution_count": 10,
   "id": "62a0663c",
   "metadata": {},
   "outputs": [],
   "source": [
    "from __future__ import annotations\n",
    "import numpy as np\n",
    "from typing import Union, ByteString\n",
    "\n",
    "def decode_and_average(\n",
    "    data: Union[ByteString, memoryview, np.ndarray],\n",
    "    *,\n",
    "    dtype: np.dtype = np.int16,\n",
    "    low: int = -200,\n",
    "    high: int = 1000\n",
    ") -> np.ndarray:\n",
    "    \"\"\"\n",
    "    Decode a raw byte/array payload to `dtype`, clip out-of-range values,\n",
    "    and return a z-scored NumPy array.\n",
    "\n",
    "    Parameters\n",
    "    ----------\n",
    "    data : bytes | bytearray | memoryview | np.ndarray\n",
    "        The raw buffer (or already-decoded NumPy array) to process.\n",
    "    dtype : np.dtype, default ``np.int16``\n",
    "        Target dtype for decoding.  Must match the true encoding.\n",
    "    low, high : int, default (-200, 1000)\n",
    "        Inclusive limits outside of which values are considered invalid.\n",
    "\n",
    "    Returns\n",
    "    -------\n",
    "    np.ndarray\n",
    "        *Shape and dtype preserved.*  \n",
    "        • If the entire payload is invalid, an array of zeros is returned.  \n",
    "        • Otherwise the array is mean-centered and scaled to unit variance.\n",
    "    \"\"\"\n",
    "    # Convert to ndarray with **zero copies** when possible\n",
    "    if isinstance(data, np.ndarray):\n",
    "        arr = data.astype(dtype, copy=False)\n",
    "    else:              # bytes, bytearray, memoryview …\n",
    "        arr = np.frombuffer(data, dtype=dtype)\n",
    "\n",
    "    # Mask the invalid range\n",
    "    mask = (arr < low) | (arr > high)\n",
    "    if mask.all():\n",
    "        # All values invalid → return zeros (float for downstream math safety)\n",
    "        return np.zeros(arr.shape, dtype=float)\n",
    "\n",
    "    # Compute mean & std on the valid slice only\n",
    "    valid = arr[~mask].astype(float)\n",
    "    mean = valid.mean()\n",
    "    std = valid.std()\n",
    "\n",
    "    # Standardize; fall back to simple centering when std == 0\n",
    "    result = (arr.astype(float) - mean) if std == 0 else (arr.astype(float) - mean) / std\n",
    "\n",
    "    # Keep overall shape; preserve NaN for the positions that were masked\n",
    "    result[mask] = np.nan\n",
    "    return result"
   ]
  },
  {
   "cell_type": "code",
   "execution_count": 11,
   "id": "b9466e76",
   "metadata": {},
   "outputs": [],
   "source": [
    "import numpy as np\n",
    "from sklearn.decomposition import PCA\n",
    "from functools import reduce\n",
    "from typing import Dict, List, Sequence, Tuple\n",
    "\n",
    "Array  = np.ndarray\n",
    "Key    = Tuple[str, int]            # (station_id, year)\n",
    "Matrix = Tuple[List[Key], Array]    # (keys, matrix or pca result)\n",
    "\n",
    "\n",
    "def _build_matrix(\n",
    "    spark_df,\n",
    "    decode_fn,\n",
    ") -> Matrix:\n",
    "    \"\"\"\n",
    "    → keys  : [(station_id, year), …]     len == n_samples\n",
    "    → matrix: np.ndarray shape (n_samples, 366)\n",
    "    \"\"\"\n",
    "    rows = (spark_df\n",
    "            .rdd\n",
    "            .map(lambda r: (r.station_id, r.Year, decode_fn(r.Values)))\n",
    "            .collect())\n",
    "\n",
    "    keys   = [(sid, yr) for sid, yr, _ in rows]\n",
    "    matrix = np.vstack([vec for _, _, vec in rows])\n",
    "    matrix = np.nan_to_num(matrix, nan=0.0)          # replace NaNs with 0\n",
    "    return keys, matrix\n",
    "\n",
    "\n",
    "def _pca(matrix: Array, n_components: int = 3, *, seed: int = 42) -> Array:\n",
    "    \"\"\"Wrapper that always returns a (n_samples, n_components) matrix.\"\"\"\n",
    "    return PCA(n_components=n_components, random_state=seed).fit_transform(matrix)\n",
    "\n",
    "\n",
    "def process_measurement(\n",
    "    spark_df,\n",
    "    decode_fn,\n",
    "    n_components: int = 3,\n",
    "    *,\n",
    "    seed: int = 42,\n",
    ") -> Matrix:\n",
    "    \"\"\"Decode, clean, run PCA, return (keys, pca_matrix).\"\"\"\n",
    "    keys, M = _build_matrix(spark_df, decode_fn)\n",
    "    return keys, _pca(M, n_components, seed=seed)\n"
   ]
  },
  {
   "cell_type": "code",
   "execution_count": 12,
   "id": "6abb8e50",
   "metadata": {},
   "outputs": [
    {
     "name": "stderr",
     "output_type": "stream",
     "text": [
      "                                                                                \r"
     ]
    }
   ],
   "source": [
    "joins_tobs, tobs_pca = process_measurement(tobs_df,  decode_and_average)\n",
    "joins_snwd, snwd_pca = process_measurement(snwd_df,  decode_and_average)\n",
    "joins_prcp, prcp_pca = process_measurement(prcp_df,  decode_and_average)"
   ]
  },
  {
   "cell_type": "code",
   "execution_count": 13,
   "id": "6675d9b9",
   "metadata": {},
   "outputs": [],
   "source": [
    "dicts: Sequence[Dict[Key, Array]] = [\n",
    "    {k: v for k, v in zip(joins_tobs, tobs_pca)},\n",
    "    {k: v for k, v in zip(joins_snwd, snwd_pca)},\n",
    "    {k: v for k, v in zip(joins_prcp, prcp_pca)},\n",
    "]\n",
    "\n",
    "common_keys = reduce(set.intersection, (set(d) for d in dicts))\n",
    "n_features  = sum(p.shape[1] for p in (tobs_pca, snwd_pca, prcp_pca))\n",
    "\n",
    "X = np.empty((len(common_keys), n_features))\n",
    "for i, key in enumerate(common_keys):\n",
    "    X[i] = np.hstack([d[key] for d in dicts])\n",
    "\n",
    "# keeping the keys for later joins if necessary\n",
    "final_keys = list(common_keys)"
   ]
  },
  {
   "cell_type": "code",
   "execution_count": 14,
   "id": "7a5d0b77",
   "metadata": {},
   "outputs": [],
   "source": [
    "feature_cols = [f\"{m}_{i}\"\n",
    "                for m in (\"TOBS\", \"SNWD\", \"PRCP\")\n",
    "                for i in range(1, 4)]\n",
    "\n",
    "df_final = pd.DataFrame(X, columns=feature_cols)\n",
    "\n",
    "# unpack keys → two extra columns\n",
    "keys_arr = np.asarray(final_keys, dtype=object)      # shape (n_samples, 2)\n",
    "df_final[\"station_id\"] = keys_arr[:, 0]\n",
    "df_final[\"year\"]       = keys_arr[:, 1].astype(int)"
   ]
  },
  {
   "cell_type": "code",
   "execution_count": 15,
   "id": "675fc5ff",
   "metadata": {},
   "outputs": [
    {
     "name": "stdout",
     "output_type": "stream",
     "text": [
      "     TOBS_1    TOBS_2    TOBS_3    SNWD_1    SNWD_2   SNWD_3    PRCP_1  \\\n",
      "0 -1.214594  0.696746 -1.583781 -0.220516 -0.225016 -0.18624 -0.293254   \n",
      "1 -1.829101  0.148525  2.251975 -0.220516 -0.225016 -0.18624 -0.867830   \n",
      "2 -0.555854  0.665180  1.677259 -0.220516 -0.225016 -0.18624  0.998790   \n",
      "3  8.197500  4.267913 -1.628339 -0.220516 -0.225016 -0.18624 -1.295066   \n",
      "4 -1.488594  2.183347 -0.917223 -0.220516 -0.225016 -0.18624 -0.934946   \n",
      "\n",
      "     PRCP_2    PRCP_3   station_id  year Koppen  \n",
      "0  0.975490  2.433447  USC00415579  2018    BSh  \n",
      "1  0.299103 -0.665492  USC00415579  1965    BSh  \n",
      "2 -1.064510 -0.095306  USC00415579  1941    BSh  \n",
      "3  0.072391  0.048279  USC00415579  1945    BSh  \n",
      "4  0.550973  0.038974  USC00415579  2002    BSh  \n"
     ]
    }
   ],
   "source": [
    "koppen_df_clean = (\n",
    "    koppen_df[[\"ID\", \"Koppen\"]]        # keep only what we need\n",
    "      .rename(columns={\"ID\": \"station_id\"})\n",
    ")\n",
    "\n",
    "df_final_with_labels = (\n",
    "    df_final\n",
    "      .merge(koppen_df_clean, on=\"station_id\", how=\"inner\")\n",
    ")\n",
    "\n",
    "print(df_final_with_labels.head())"
   ]
  },
  {
   "cell_type": "markdown",
   "id": "55589532",
   "metadata": {},
   "source": [
    "## XGBoost"
   ]
  },
  {
   "cell_type": "code",
   "execution_count": 26,
   "id": "31d1bbe0",
   "metadata": {},
   "outputs": [
    {
     "data": {
      "text/plain": [
       "'Version of xgb=2.1.4, should be at least 1.5.1'"
      ]
     },
     "execution_count": 26,
     "metadata": {},
     "output_type": "execute_result"
    }
   ],
   "source": [
    "f'Version of xgb={xgb.__version__}, should be at least 1.5.1'"
   ]
  },
  {
   "cell_type": "markdown",
   "id": "281cd3bb",
   "metadata": {},
   "source": [
    "### Trial 1"
   ]
  },
  {
   "cell_type": "code",
   "execution_count": 27,
   "id": "f21a586c",
   "metadata": {},
   "outputs": [],
   "source": [
    "# Prepare feature matrix X and label vector y\n",
    "\n",
    "import numpy as np\n",
    "import xgboost as xgb\n",
    "from sklearn.model_selection import train_test_split\n",
    "from sklearn.preprocessing import LabelEncoder\n",
    "from sklearn.metrics import accuracy_score, confusion_matrix, ConfusionMatrixDisplay\n",
    "import matplotlib.pyplot as plt\n",
    "\n",
    "# Drop ID columns, extract features and labels\n",
    "df_ml = df_final_with_labels.drop(columns=[\"station_id\", \"year\"])\n",
    "X      = df_ml.drop(columns=\"Koppen\").values         # shape: (n_samples, 9)\n",
    "y_raw  = df_ml[\"Koppen\"].values                       # string labels\n",
    "\n",
    "# Encode Köppen strings → integer classes (0, 1, …, C-1)\n",
    "le = LabelEncoder()\n",
    "y  = le.fit_transform(y_raw)                         # e.g. ['A','B','C','A'] → [0,1,2,0]\n",
    "\n",
    "n_classes = len(le.classes_)                         # number of unique Köppen labels"
   ]
  },
  {
   "cell_type": "code",
   "execution_count": 28,
   "id": "cca638b9",
   "metadata": {},
   "outputs": [
    {
     "name": "stdout",
     "output_type": "stream",
     "text": [
      "Shapes → Train:   (13126, 9), (13126,); Val:     (6563, 9),   (6563,); Test:    (6563, 9),  (6563,)\n"
     ]
    }
   ],
   "source": [
    "# Create 50% train, 25% validation, 25% test splits (stratified)\n",
    "\n",
    "# First split off 50% as “train”, 50% as “temp”\n",
    "X_train, X_temp, y_train, y_temp = train_test_split(\n",
    "    X, y, test_size=0.50, stratify=y, random_state=42\n",
    ")\n",
    "\n",
    "# Now split the “temp” set 50/50 → 25% total each for validation & test\n",
    "X_val, X_test, y_val, y_test = train_test_split(\n",
    "    X_temp, y_temp, test_size=0.50, stratify=y_temp, random_state=42\n",
    ")\n",
    "\n",
    "print(\"Shapes →\",\n",
    "      f\"Train:   {X_train.shape}, {y_train.shape};\",\n",
    "      f\"Val:     {X_val.shape},   {y_val.shape};\",\n",
    "      f\"Test:    {X_test.shape},  {y_test.shape}\")\n"
   ]
  },
  {
   "cell_type": "code",
   "execution_count": 29,
   "id": "f4aa5202",
   "metadata": {},
   "outputs": [],
   "source": [
    "# Wrap arrays into DMatrix for XGBoost\n",
    "\n",
    "dtrain = xgb.DMatrix(X_train, label=y_train)\n",
    "dval   = xgb.DMatrix(X_val,   label=y_val)\n",
    "dtest  = xgb.DMatrix(X_test,  label=y_test)"
   ]
  },
  {
   "cell_type": "code",
   "execution_count": 30,
   "id": "da5ca168",
   "metadata": {},
   "outputs": [
    {
     "name": "stdout",
     "output_type": "stream",
     "text": [
      "\n",
      "Tree Depth 1\n",
      "  → Best Iteration: 216;  Train Acc = 0.725;  Val Acc = 0.724\n",
      "\n",
      "Tree Depth 2\n",
      "  → Best Iteration: 127;  Train Acc = 0.744;  Val Acc = 0.732\n",
      "\n",
      "Tree Depth 3\n",
      "  → Best Iteration:  69;  Train Acc = 0.757;  Val Acc = 0.733\n",
      "\n",
      "Tree Depth 4\n",
      "  → Best Iteration:  55;  Train Acc = 0.777;  Val Acc = 0.732\n"
     ]
    }
   ],
   "source": [
    "# Sweep tree depths 1 → 4, use early stopping on validation logloss\n",
    "\n",
    "depth_results = {}\n",
    "num_round       = 1000      # upper bound on # of trees\n",
    "early_stop_rounds = 25      # if no improvement in 25 rounds on validation\n",
    "\n",
    "for depth in [1, 2, 3, 4]:\n",
    "    print(f\"\\nTree Depth {depth}\")\n",
    "    \n",
    "    # Define parameters (multi-class)\n",
    "    param = {\n",
    "        'max_depth':   depth,\n",
    "        'eta':         0.3,                    # shrinkage\n",
    "        'verbosity':   0,                      # 0 = silent\n",
    "        'objective':   'multi:softprob',       # multi-class logloss\n",
    "        'num_class':   n_classes,\n",
    "        'eval_metric': 'mlogloss',\n",
    "        'nthread':     7\n",
    "    }\n",
    "    \n",
    "    # Train with early stopping on validation\n",
    "    evals = [(dtrain, 'train'), (dval, 'validation')]\n",
    "    \n",
    "    bst = xgb.train(\n",
    "        params                 = param,\n",
    "        dtrain                 = dtrain,\n",
    "        num_boost_round        = num_round,\n",
    "        evals                   = evals,\n",
    "        early_stopping_rounds  = early_stop_rounds,\n",
    "        verbose_eval          = False       # suppress per-iteration prints\n",
    "    )\n",
    "    \n",
    "    # 4c)  Record best iteration and accuracies\n",
    "    best_iter = bst.best_iteration\n",
    "    # Predict class labels on train & val\n",
    "    y_train_pred = np.argmax(bst.predict(dtrain), axis=1)\n",
    "    y_val_pred   = np.argmax(bst.predict(dval),   axis=1)\n",
    "    train_acc    = accuracy_score(y_train, y_train_pred)\n",
    "    val_acc      = accuracy_score(y_val,   y_val_pred)\n",
    "    \n",
    "    depth_results[depth] = {\n",
    "        'model':     bst,\n",
    "        'best_iter': best_iter,\n",
    "        'train_acc': train_acc,\n",
    "        'val_acc':   val_acc\n",
    "    }\n",
    "    \n",
    "    print(f\"  → Best Iteration: {best_iter:3d};  \"\n",
    "          f\"Train Acc = {train_acc:.3f};  Val Acc = {val_acc:.3f}\")"
   ]
  },
  {
   "cell_type": "code",
   "execution_count": 31,
   "id": "6b0a5ae9",
   "metadata": {},
   "outputs": [
    {
     "name": "stdout",
     "output_type": "stream",
     "text": [
      "\n",
      "Selected tree depth = 3 (val_acc = 0.733)\n"
     ]
    }
   ],
   "source": [
    "# Choose the depth with highest validation accuracy (tie → smaller depth)\n",
    "\n",
    "best_depth = max(\n",
    "    depth_results,\n",
    "    key=lambda d: (depth_results[d]['val_acc'], -d)\n",
    ")\n",
    "best_model = depth_results[best_depth]['model']\n",
    "\n",
    "print(f\"\\nSelected tree depth = {best_depth} \"\n",
    "      f\"(val_acc = {depth_results[best_depth]['val_acc']:.3f})\")\n"
   ]
  },
  {
   "cell_type": "code",
   "execution_count": 32,
   "id": "c228ad3f",
   "metadata": {},
   "outputs": [
    {
     "name": "stdout",
     "output_type": "stream",
     "text": [
      "Test Accuracy = 0.728   →   Test Error = 0.272\n"
     ]
    },
    {
     "data": {
      "image/png": "[encoded data removed]",
      "text/plain": [
       "<Figure size 600x600 with 1 Axes>"
      ]
     },
     "metadata": {},
     "output_type": "display_data"
    }
   ],
   "source": [
    "# Final evaluation on the TEST set\n",
    "\n",
    "# Predict on test\n",
    "y_test_pred = np.argmax(best_model.predict(dtest), axis=1)\n",
    "test_acc    = accuracy_score(y_test, y_test_pred)\n",
    "test_error  = 1.0 - test_acc\n",
    "\n",
    "print(f\"Test Accuracy = {test_acc:.3f}   →   Test Error = {test_error:.3f}\")\n",
    "\n",
    "# 6b)  Confusion matrix\n",
    "cm = confusion_matrix(y_test, y_test_pred, labels=range(n_classes))\n",
    "fig, ax = plt.subplots(figsize=(6, 6))\n",
    "disp = ConfusionMatrixDisplay(confusion_matrix=cm,\n",
    "                              display_labels=le.classes_)\n",
    "disp.plot(ax=ax, cmap=\"Blues\", colorbar=False)\n",
    "plt.title(f\"Confusion Matrix (Depth {best_depth})\")\n",
    "plt.tight_layout()\n",
    "plt.show()\n"
   ]
  },
  {
   "cell_type": "markdown",
   "id": "87666386",
   "metadata": {},
   "source": [
    "---\n",
    "### Trial 2"
   ]
  },
  {
   "cell_type": "code",
   "execution_count": 33,
   "id": "07b8b705",
   "metadata": {},
   "outputs": [],
   "source": [
    "df_ml = df_final_with_labels.drop(columns=[\"station_id\", \"year\"])\n",
    "X      = df_ml.drop(columns=\"Koppen\").values                      # (n_samples, 9)\n",
    "y_raw  = df_ml[\"Koppen\"].values\n",
    "\n",
    "from sklearn.preprocessing import LabelEncoder\n",
    "le = LabelEncoder()\n",
    "y = le.fit_transform(y_raw)                                       # int-encoded labels"
   ]
  },
  {
   "cell_type": "code",
   "execution_count": 34,
   "id": "2a684f34",
   "metadata": {},
   "outputs": [],
   "source": [
    "from sklearn.model_selection import train_test_split\n",
    "\n",
    "X_train, X_temp, y_train, y_temp = train_test_split(\n",
    "    X, y, test_size=0.50, stratify=y, random_state=42\n",
    ")\n",
    "X_val, X_test, y_val, y_test = train_test_split(\n",
    "    X_temp, y_temp, test_size=0.50, stratify=y_temp, random_state=42\n",
    ")"
   ]
  },
  {
   "cell_type": "code",
   "execution_count": 35,
   "id": "1b0cd0ef",
   "metadata": {},
   "outputs": [
    {
     "name": "stdout",
     "output_type": "stream",
     "text": [
      "Depth  1 | train_acc=0.726 | val_acc=0.724\n",
      "Depth  2 | train_acc=0.757 | val_acc=0.731\n",
      "Depth  3 | train_acc=0.810 | val_acc=0.730\n",
      "Depth  4 | train_acc=0.879 | val_acc=0.728\n"
     ]
    }
   ],
   "source": [
    "import xgboost as xgb\n",
    "from sklearn.metrics import accuracy_score\n",
    "\n",
    "depth_results = {}\n",
    "\n",
    "for depth in [1, 2, 3, 4]:\n",
    "    clf = xgb.XGBClassifier(\n",
    "        objective       = \"multi:softprob\",\n",
    "        num_class       = len(le.classes_),\n",
    "        max_depth       = depth,\n",
    "        learning_rate   = 0.10,\n",
    "        n_estimators    = 1_000,\n",
    "        eval_metric     = \"mlogloss\",\n",
    "        random_state    = 42,\n",
    "        n_jobs          = -1,\n",
    "    )\n",
    "    \n",
    "    clf.fit(\n",
    "        X_train, y_train,\n",
    "        eval_set              = [(X_train, y_train), (X_val, y_val)],\n",
    "        verbose               = False,\n",
    "    )\n",
    "    \n",
    "    depth_results[depth] = {\n",
    "        \"model\"          : clf,\n",
    "        \"train_acc\"      : accuracy_score(y_train, clf.predict(X_train)),\n",
    "        \"val_acc\"        : accuracy_score(y_val,   clf.predict(X_val)),\n",
    "    }\n",
    "    \n",
    "    print(f\"Depth {depth:>2} | \"\n",
    "          f\"train_acc={depth_results[depth]['train_acc']:.3f} | \"\n",
    "          f\"val_acc={depth_results[depth]['val_acc']:.3f}\")"
   ]
  },
  {
   "cell_type": "code",
   "execution_count": 36,
   "id": "5d47df7d",
   "metadata": {},
   "outputs": [
    {
     "name": "stdout",
     "output_type": "stream",
     "text": [
      "\n",
      " Chosen depth = 2 with validation accuracy 0.731\n"
     ]
    }
   ],
   "source": [
    "best_depth = max(depth_results, key=lambda d: (depth_results[d][\"val_acc\"], -d))\n",
    "best_clf   = depth_results[best_depth][\"model\"]\n",
    "\n",
    "print(f\"\\n Chosen depth = {best_depth} \"\n",
    "      f\"with validation accuracy {depth_results[best_depth]['val_acc']:.3f}\")"
   ]
  },
  {
   "cell_type": "code",
   "execution_count": 37,
   "id": "ba972e6e",
   "metadata": {},
   "outputs": [
    {
     "name": "stdout",
     "output_type": "stream",
     "text": [
      "Test accuracy = 0.727  (error rate = 0.273)\n"
     ]
    },
    {
     "data": {
      "image/png": "[encoded data removed]",
      "text/plain": [
       "<Figure size 600x600 with 1 Axes>"
      ]
     },
     "metadata": {},
     "output_type": "display_data"
    }
   ],
   "source": [
    "from sklearn.metrics import confusion_matrix, ConfusionMatrixDisplay\n",
    "import matplotlib.pyplot as plt\n",
    "import numpy as np\n",
    "\n",
    "y_test_pred = best_clf.predict(X_test)\n",
    "test_acc    = accuracy_score(y_test, y_test_pred)\n",
    "\n",
    "print(f\"Test accuracy = {test_acc:.3f}  (error rate = {1-test_acc:.3f})\")\n",
    "\n",
    "cm = confusion_matrix(y_test, y_test_pred, labels=range(len(le.classes_)))\n",
    "fig, ax = plt.subplots(figsize=(6, 6))\n",
    "disp = ConfusionMatrixDisplay(confusion_matrix=cm,\n",
    "                              display_labels=le.classes_)\n",
    "disp.plot(ax=ax, cmap=\"Blues\", colorbar=False)\n",
    "plt.title(f\"Confusion Matrix — depth {best_depth}\")\n",
    "plt.tight_layout()\n",
    "plt.show()"
   ]
  }
 ],
 "metadata": {
  "kernelspec": {
   "display_name": "Python 3 (ipykernel)",
   "language": "python",
   "name": "python3"
  },
  "language_info": {
   "codemirror_mode": {
    "name": "ipython",
    "version": 3
   },
   "file_extension": ".py",
   "mimetype": "text/x-python",
   "name": "python",
   "nbconvert_exporter": "python",
   "pygments_lexer": "ipython3",
   "version": "3.8.15"
  }
 },
 "nbformat": 4,
 "nbformat_minor": 5
}
